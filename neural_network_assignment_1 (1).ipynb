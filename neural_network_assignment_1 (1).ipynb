{
  "nbformat": 4,
  "nbformat_minor": 0,
  "metadata": {
    "colab": {
      "provenance": []
    },
    "kernelspec": {
      "name": "python3",
      "display_name": "Python 3"
    },
    "language_info": {
      "name": "python"
    }
  },
  "cells": [
    {
      "cell_type": "code",
      "source": [
        "import numpy as np"
      ],
      "metadata": {
        "id": "01Te-PLqBZC5"
      },
      "execution_count": null,
      "outputs": []
    },
    {
      "cell_type": "code",
      "source": [
        "# set the weight\n",
        "weight = 0.1\n"
      ],
      "metadata": {
        "id": "6M3S1E0oBd2z"
      },
      "execution_count": null,
      "outputs": []
    },
    {
      "cell_type": "code",
      "source": [
        "#  set the rate (alpha)\n",
        "alpha = 0.01"
      ],
      "metadata": {
        "id": "sU-Cm7-JBiKU"
      },
      "execution_count": null,
      "outputs": []
    },
    {
      "cell_type": "code",
      "source": [
        "# Define the neural network function\n",
        "def neural_network(input, weight):\n",
        "    # Prediction is a linear combination of input and weight\n",
        "    prediction = input * weight\n",
        "    return prediction\n"
      ],
      "metadata": {
        "id": "iVysMP8JBrqj"
      },
      "execution_count": null,
      "outputs": []
    },
    {
      "cell_type": "code",
      "source": [
        "# Training data Input\n",
        "number_of_toes = [6.5, 7.5, 11, 10]  # Example inputs\n",
        "\n"
      ],
      "metadata": {
        "id": "se9VMIYOB5vA"
      },
      "execution_count": null,
      "outputs": []
    },
    {
      "cell_type": "code",
      "source": [
        " # Targets\n",
        "expected_outputs = [0.7, 0.82, 0.9, 0.87]"
      ],
      "metadata": {
        "id": "P0JjzwvoCAoc"
      },
      "execution_count": null,
      "outputs": []
    },
    {
      "cell_type": "code",
      "source": [
        "# Calculate derivative of the error with respect to weight\n",
        "def calculate_derivative(input, prediction, target):\n",
        "  # Calculate the error\n",
        "    error = prediction - target\n",
        "# Derivative error with respect to  weight\n",
        "    derivative = error * input\n",
        "    return derivative"
      ],
      "metadata": {
        "id": "evBfWQvGCjXj"
      },
      "execution_count": null,
      "outputs": []
    },
    {
      "cell_type": "code",
      "source": [
        "# run a training loop\n",
        "epochs = 1000  # Number of training iterations\n",
        "for epoch in range(epochs):\n",
        "    for i in range(len(number_of_toes)):\n",
        "        input = number_of_toes[i]\n",
        "        target = expected_outputs[i]"
      ],
      "metadata": {
        "id": "2jxcfUQKDhYI"
      },
      "execution_count": null,
      "outputs": []
    },
    {
      "cell_type": "code",
      "source": [
        "# Forward pass to make a prediction\n",
        "prediction = neural_network(input, weight)"
      ],
      "metadata": {
        "id": "cqrwHSeaDsIv"
      },
      "execution_count": null,
      "outputs": []
    },
    {
      "cell_type": "code",
      "source": [
        "# Calculate the error (not used in weight update directly, but for understanding)\n",
        "error = (prediction - target) ** 2"
      ],
      "metadata": {
        "id": "6w0O2zBDD4g8"
      },
      "execution_count": null,
      "outputs": []
    },
    {
      "cell_type": "code",
      "source": [
        "# Calculate the derivative of the error with respect to the weight\n",
        "derivative = calculate_derivative(input, prediction, target)"
      ],
      "metadata": {
        "id": "xLuxQI_eESPJ"
      },
      "execution_count": null,
      "outputs": []
    },
    {
      "cell_type": "code",
      "source": [
        " #Update the weight using the derivative and the learning rate\n",
        "weight -= alpha * derivative\n"
      ],
      "metadata": {
        "id": "RZG2hwzVEGPN"
      },
      "execution_count": null,
      "outputs": []
    },
    {
      "cell_type": "code",
      "source": [
        "# Update the weight using the derivative and the learning rate\n",
        "weight -= alpha * derivative\n"
      ],
      "metadata": {
        "id": "C2FLz2FqEa7I"
      },
      "execution_count": null,
      "outputs": []
    },
    {
      "cell_type": "code",
      "source": [
        "    # Print the weight and error every 100 epochs for monitoring\n",
        "    if epoch % 100 == 0:\n",
        "        print(f\"Epoch {epoch}, Weight: {weight}, Error: {error}\")"
      ],
      "metadata": {
        "id": "r1lH4QcREtoT"
      },
      "execution_count": null,
      "outputs": []
    },
    {
      "cell_type": "code",
      "source": [
        "# Testing the trained neural network for the best prediction\n",
        "input = number_of_toes[0]\n",
        "pred = neural_network(input, weight)\n",
        "print(f\"Prediction after training: {pred}\")"
      ],
      "metadata": {
        "colab": {
          "base_uri": "https://localhost:8080/"
        },
        "id": "BCWOM9vmE1K1",
        "outputId": "6c4dba8f-0bb1-42ea-cdaa-b034fbbda7fc"
      },
      "execution_count": null,
      "outputs": [
        {
          "output_type": "stream",
          "name": "stdout",
          "text": [
            "Prediction after training: 0.4810000000000001\n"
          ]
        }
      ]
    }
  ]
}